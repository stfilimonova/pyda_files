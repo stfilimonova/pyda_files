{
 "cells": [
  {
   "cell_type": "code",
   "execution_count": 4,
   "metadata": {},
   "outputs": [],
   "source": [
    "import json\n",
    "purchases = {}\n",
    "with open('purchase_log.txt', 'r', encoding = 'UTF-8') as f1:\n",
    "    lines = f1.readlines()\n",
    "    for line in lines:\n",
    "        line = line.strip()\n",
    "        line = json.loads(line)\n",
    "        purchases[line.pop('user_id')] = line.pop('category')"
   ]
  },
  {
   "cell_type": "code",
   "execution_count": 4,
   "metadata": {},
   "outputs": [
    {
     "name": "stdout",
     "output_type": "stream",
     "text": [
      "complied\n"
     ]
    }
   ],
   "source": [
    "import json\n",
    "purchases = {}\n",
    "with open('purchase_log.txt', 'r', encoding = 'UTF-8') as f1:\n",
    "    with open('visit_log.csv') as f2: \n",
    "        with open('funnel.csv','w') as f3: \n",
    "            for line in f1:\n",
    "                line = line.strip()\n",
    "                line = json.loads(line)\n",
    "                purchases[line.pop('user_id')] = line.pop('category')\n",
    "            for k,v in purchases.items():\n",
    "                for l in f2:\n",
    "                    l1 = l[l.find(',')+1:].strip()\n",
    "                    if (k in l) and ('None' not in l):\n",
    "                            f3.write(k + ','+ l1 + ',' + v + '\\n')\n",
    "print('complied')"
   ]
  }
 ],
 "metadata": {
  "kernelspec": {
   "display_name": "Python 3",
   "language": "python",
   "name": "python3"
  },
  "language_info": {
   "codemirror_mode": {
    "name": "ipython",
    "version": 3
   },
   "file_extension": ".py",
   "mimetype": "text/x-python",
   "name": "python",
   "nbconvert_exporter": "python",
   "pygments_lexer": "ipython3",
   "version": "3.8.3"
  }
 },
 "nbformat": 4,
 "nbformat_minor": 4
}
